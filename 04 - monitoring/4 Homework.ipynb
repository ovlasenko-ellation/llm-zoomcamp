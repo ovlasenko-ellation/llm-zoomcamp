{
 "cells": [
  {
   "cell_type": "code",
   "execution_count": 30,
   "id": "327dae9a-94c2-4dae-a248-c5fb40f174f7",
   "metadata": {},
   "outputs": [],
   "source": [
    "import pandas as pd\n",
    "import requests\n",
    "from io import StringIO\n"
   ]
  },
  {
   "cell_type": "code",
   "execution_count": 31,
   "id": "7ad94e8f-15e3-4a71-bff1-c14bcb102803",
   "metadata": {},
   "outputs": [
    {
     "name": "stderr",
     "output_type": "stream",
     "text": [
      "/Users/olgavlasenko/PycharmProjects/llm-zoomcamp/.venv/lib/python3.12/site-packages/urllib3/connectionpool.py:1099: InsecureRequestWarning: Unverified HTTPS request is being made to host 'raw.githubusercontent.com'. Adding certificate verification is strongly advised. See: https://urllib3.readthedocs.io/en/latest/advanced-usage.html#tls-warnings\n",
      "  warnings.warn(\n"
     ]
    }
   ],
   "source": [
    "url = 'https://raw.githubusercontent.com/DataTalksClub/llm-zoomcamp/main/04-monitoring/data/results-gpt4o-mini.csv'\n",
    "response = requests.get(url, verify=False)\n",
    "df = pd.read_csv(StringIO(response.text))"
   ]
  },
  {
   "cell_type": "code",
   "execution_count": 32,
   "id": "95acef63-9d62-470a-9686-494a8c7308fb",
   "metadata": {},
   "outputs": [],
   "source": [
    "df = df.iloc[:300]"
   ]
  },
  {
   "cell_type": "code",
   "execution_count": 33,
   "id": "195fa8c9-d748-4ced-8184-ab2aaf708841",
   "metadata": {},
   "outputs": [
    {
     "name": "stderr",
     "output_type": "stream",
     "text": [
      "You try to use a model that was created with version 3.0.0.dev0, however, your version is 2.7.0. This might cause unexpected behavior or errors. In that case, try to update to the latest version.\n",
      "\n",
      "\n",
      "\n"
     ]
    }
   ],
   "source": [
    "from sentence_transformers import SentenceTransformer\n",
    "embedding_model = SentenceTransformer(\"multi-qa-mpnet-base-dot-v1\")"
   ]
  },
  {
   "cell_type": "markdown",
   "id": "3a52c645-404e-4bac-a1cc-fa10dd7845a9",
   "metadata": {},
   "source": [
    "# Q1. Getting the embeddings model"
   ]
  },
  {
   "cell_type": "code",
   "execution_count": 34,
   "id": "5a4a636a-f238-49fb-bb27-fb9e7ea556f9",
   "metadata": {},
   "outputs": [],
   "source": [
    "answer_llm = df.iloc[0].answer_llm"
   ]
  },
  {
   "cell_type": "code",
   "execution_count": 35,
   "id": "4e2a0293-f57e-4811-bc5b-086847d49082",
   "metadata": {},
   "outputs": [],
   "source": [
    "answer_embedding = embedding_model.encode(answer_llm)"
   ]
  },
  {
   "cell_type": "code",
   "execution_count": 36,
   "id": "bd400cb8-944b-4a5f-b425-7c3076489820",
   "metadata": {},
   "outputs": [
    {
     "data": {
      "text/plain": [
       "-0.4224467"
      ]
     },
     "execution_count": 36,
     "metadata": {},
     "output_type": "execute_result"
    }
   ],
   "source": [
    "answer_embedding[0]"
   ]
  },
  {
   "cell_type": "markdown",
   "id": "2e0dd583-a1bd-4021-ace8-6e48ab19746b",
   "metadata": {},
   "source": [
    "# Q2. Computing the dot product"
   ]
  },
  {
   "cell_type": "code",
   "execution_count": 37,
   "id": "97a6847b-8375-4d8b-b196-88685b149cb9",
   "metadata": {},
   "outputs": [],
   "source": [
    "import numpy as np"
   ]
  },
  {
   "cell_type": "code",
   "execution_count": 38,
   "id": "70802db5-24aa-4e91-8e95-4716b21e4ef8",
   "metadata": {},
   "outputs": [
    {
     "data": {
      "text/html": [
       "<div>\n",
       "<style scoped>\n",
       "    .dataframe tbody tr th:only-of-type {\n",
       "        vertical-align: middle;\n",
       "    }\n",
       "\n",
       "    .dataframe tbody tr th {\n",
       "        vertical-align: top;\n",
       "    }\n",
       "\n",
       "    .dataframe thead th {\n",
       "        text-align: right;\n",
       "    }\n",
       "</style>\n",
       "<table border=\"1\" class=\"dataframe\">\n",
       "  <thead>\n",
       "    <tr style=\"text-align: right;\">\n",
       "      <th></th>\n",
       "      <th>answer_llm</th>\n",
       "      <th>answer_orig</th>\n",
       "      <th>document</th>\n",
       "      <th>question</th>\n",
       "      <th>course</th>\n",
       "    </tr>\n",
       "  </thead>\n",
       "  <tbody>\n",
       "    <tr>\n",
       "      <th>0</th>\n",
       "      <td>You can sign up for the course by visiting the...</td>\n",
       "      <td>Machine Learning Zoomcamp FAQ\\nThe purpose of ...</td>\n",
       "      <td>0227b872</td>\n",
       "      <td>Where can I sign up for the course?</td>\n",
       "      <td>machine-learning-zoomcamp</td>\n",
       "    </tr>\n",
       "    <tr>\n",
       "      <th>1</th>\n",
       "      <td>You can sign up using the link provided in the...</td>\n",
       "      <td>Machine Learning Zoomcamp FAQ\\nThe purpose of ...</td>\n",
       "      <td>0227b872</td>\n",
       "      <td>Can you provide a link to sign up?</td>\n",
       "      <td>machine-learning-zoomcamp</td>\n",
       "    </tr>\n",
       "    <tr>\n",
       "      <th>2</th>\n",
       "      <td>Yes, there is an FAQ for the Machine Learning ...</td>\n",
       "      <td>Machine Learning Zoomcamp FAQ\\nThe purpose of ...</td>\n",
       "      <td>0227b872</td>\n",
       "      <td>Is there an FAQ for this Machine Learning course?</td>\n",
       "      <td>machine-learning-zoomcamp</td>\n",
       "    </tr>\n",
       "    <tr>\n",
       "      <th>3</th>\n",
       "      <td>The context does not provide any specific info...</td>\n",
       "      <td>Machine Learning Zoomcamp FAQ\\nThe purpose of ...</td>\n",
       "      <td>0227b872</td>\n",
       "      <td>Does this course have a GitHub repository for ...</td>\n",
       "      <td>machine-learning-zoomcamp</td>\n",
       "    </tr>\n",
       "    <tr>\n",
       "      <th>4</th>\n",
       "      <td>To structure your questions and answers for th...</td>\n",
       "      <td>Machine Learning Zoomcamp FAQ\\nThe purpose of ...</td>\n",
       "      <td>0227b872</td>\n",
       "      <td>How can I structure my questions and answers f...</td>\n",
       "      <td>machine-learning-zoomcamp</td>\n",
       "    </tr>\n",
       "    <tr>\n",
       "      <th>...</th>\n",
       "      <td>...</td>\n",
       "      <td>...</td>\n",
       "      <td>...</td>\n",
       "      <td>...</td>\n",
       "      <td>...</td>\n",
       "    </tr>\n",
       "    <tr>\n",
       "      <th>295</th>\n",
       "      <td>An alternative way to load the data using the ...</td>\n",
       "      <td>Above users showed how to load the dataset dir...</td>\n",
       "      <td>8d209d6d</td>\n",
       "      <td>What is an alternative way to load the data us...</td>\n",
       "      <td>machine-learning-zoomcamp</td>\n",
       "    </tr>\n",
       "    <tr>\n",
       "      <th>296</th>\n",
       "      <td>You can directly download the dataset from Git...</td>\n",
       "      <td>Above users showed how to load the dataset dir...</td>\n",
       "      <td>8d209d6d</td>\n",
       "      <td>How can I directly download the dataset from G...</td>\n",
       "      <td>machine-learning-zoomcamp</td>\n",
       "    </tr>\n",
       "    <tr>\n",
       "      <th>297</th>\n",
       "      <td>You can fetch data for homework using the `req...</td>\n",
       "      <td>Above users showed how to load the dataset dir...</td>\n",
       "      <td>8d209d6d</td>\n",
       "      <td>Could you share a method to fetch data for hom...</td>\n",
       "      <td>machine-learning-zoomcamp</td>\n",
       "    </tr>\n",
       "    <tr>\n",
       "      <th>298</th>\n",
       "      <td>If the status code is 200 when downloading dat...</td>\n",
       "      <td>Above users showed how to load the dataset dir...</td>\n",
       "      <td>8d209d6d</td>\n",
       "      <td>What should I do if the status code is 200 whe...</td>\n",
       "      <td>machine-learning-zoomcamp</td>\n",
       "    </tr>\n",
       "    <tr>\n",
       "      <th>299</th>\n",
       "      <td>If the file download fails when using the requ...</td>\n",
       "      <td>Above users showed how to load the dataset dir...</td>\n",
       "      <td>8d209d6d</td>\n",
       "      <td>What does the code using the requests library ...</td>\n",
       "      <td>machine-learning-zoomcamp</td>\n",
       "    </tr>\n",
       "  </tbody>\n",
       "</table>\n",
       "<p>300 rows × 5 columns</p>\n",
       "</div>"
      ],
      "text/plain": [
       "                                            answer_llm  \\\n",
       "0    You can sign up for the course by visiting the...   \n",
       "1    You can sign up using the link provided in the...   \n",
       "2    Yes, there is an FAQ for the Machine Learning ...   \n",
       "3    The context does not provide any specific info...   \n",
       "4    To structure your questions and answers for th...   \n",
       "..                                                 ...   \n",
       "295  An alternative way to load the data using the ...   \n",
       "296  You can directly download the dataset from Git...   \n",
       "297  You can fetch data for homework using the `req...   \n",
       "298  If the status code is 200 when downloading dat...   \n",
       "299  If the file download fails when using the requ...   \n",
       "\n",
       "                                           answer_orig  document  \\\n",
       "0    Machine Learning Zoomcamp FAQ\\nThe purpose of ...  0227b872   \n",
       "1    Machine Learning Zoomcamp FAQ\\nThe purpose of ...  0227b872   \n",
       "2    Machine Learning Zoomcamp FAQ\\nThe purpose of ...  0227b872   \n",
       "3    Machine Learning Zoomcamp FAQ\\nThe purpose of ...  0227b872   \n",
       "4    Machine Learning Zoomcamp FAQ\\nThe purpose of ...  0227b872   \n",
       "..                                                 ...       ...   \n",
       "295  Above users showed how to load the dataset dir...  8d209d6d   \n",
       "296  Above users showed how to load the dataset dir...  8d209d6d   \n",
       "297  Above users showed how to load the dataset dir...  8d209d6d   \n",
       "298  Above users showed how to load the dataset dir...  8d209d6d   \n",
       "299  Above users showed how to load the dataset dir...  8d209d6d   \n",
       "\n",
       "                                              question  \\\n",
       "0                  Where can I sign up for the course?   \n",
       "1                   Can you provide a link to sign up?   \n",
       "2    Is there an FAQ for this Machine Learning course?   \n",
       "3    Does this course have a GitHub repository for ...   \n",
       "4    How can I structure my questions and answers f...   \n",
       "..                                                 ...   \n",
       "295  What is an alternative way to load the data us...   \n",
       "296  How can I directly download the dataset from G...   \n",
       "297  Could you share a method to fetch data for hom...   \n",
       "298  What should I do if the status code is 200 whe...   \n",
       "299  What does the code using the requests library ...   \n",
       "\n",
       "                        course  \n",
       "0    machine-learning-zoomcamp  \n",
       "1    machine-learning-zoomcamp  \n",
       "2    machine-learning-zoomcamp  \n",
       "3    machine-learning-zoomcamp  \n",
       "4    machine-learning-zoomcamp  \n",
       "..                         ...  \n",
       "295  machine-learning-zoomcamp  \n",
       "296  machine-learning-zoomcamp  \n",
       "297  machine-learning-zoomcamp  \n",
       "298  machine-learning-zoomcamp  \n",
       "299  machine-learning-zoomcamp  \n",
       "\n",
       "[300 rows x 5 columns]"
      ]
     },
     "execution_count": 38,
     "metadata": {},
     "output_type": "execute_result"
    }
   ],
   "source": [
    "df"
   ]
  },
  {
   "cell_type": "code",
   "execution_count": 39,
   "id": "f85bdf3a-baaf-4cbf-b7db-6f06ad1c7fd0",
   "metadata": {},
   "outputs": [],
   "source": [
    "scores = []\n",
    "\n",
    "# Iterate over the dataframe and compute embeddings and dot products\n",
    "for index, row in df.iterrows():\n",
    "    answer_llm_emb = embedding_model.encode(row['answer_llm'])\n",
    "    answer_orig_emb = embedding_model.encode(row['answer_orig'])\n",
    "    \n",
    "    # Compute the dot product\n",
    "    dot_product_score = np.dot(answer_llm_emb, answer_orig_emb)\n",
    "    scores.append(dot_product_score)"
   ]
  },
  {
   "cell_type": "code",
   "execution_count": 40,
   "id": "7bab99f8-edb8-4528-9db4-86122eec4c2f",
   "metadata": {},
   "outputs": [
    {
     "name": "stdout",
     "output_type": "stream",
     "text": [
      "The 75th percentile of the scores is: 31.674306869506836\n"
     ]
    }
   ],
   "source": [
    "# Calculate the 75th percentile\n",
    "percentile_75 = np.percentile(scores, 75)\n",
    "\n",
    "print(f\"The 75th percentile of the scores is: {percentile_75}\")"
   ]
  },
  {
   "cell_type": "markdown",
   "id": "e95b43a7-e913-4c17-9983-0d4bec8ac749",
   "metadata": {},
   "source": [
    "# Q3. Computing the cosine"
   ]
  },
  {
   "cell_type": "code",
   "execution_count": 41,
   "id": "d4e2226e-337a-4fcc-9124-07c999df205c",
   "metadata": {},
   "outputs": [
    {
     "name": "stdout",
     "output_type": "stream",
     "text": [
      "The 75th percentile of the cosine similarity scores is: 0.8362347185611725\n"
     ]
    }
   ],
   "source": [
    "# Function to normalize a vector\n",
    "def normalize_vector(v):\n",
    "    norm = np.sqrt((v * v).sum())\n",
    "    return v / norm if norm != 0 else v\n",
    "\n",
    "# Function to compute cosine similarity between two vectors\n",
    "def cosine_similarity(v1, v2):\n",
    "    v1_norm = normalize_vector(v1)\n",
    "    v2_norm = normalize_vector(v2)\n",
    "    return np.dot(v1_norm, v2_norm)\n",
    "\n",
    "# Create a list to store scores\n",
    "scores = []\n",
    "\n",
    "# Iterate over the dataframe and compute embeddings and cosine similarities\n",
    "for index, row in df.iterrows():\n",
    "    answer_llm_emb = embedding_model.encode(row['answer_llm'])\n",
    "    answer_orig_emb = embedding_model.encode(row['answer_orig'])\n",
    "    \n",
    "    # Compute the cosine similarity\n",
    "    similarity_score = cosine_similarity(answer_llm_emb, answer_orig_emb)\n",
    "    scores.append(similarity_score)\n",
    "\n",
    "# Calculate the 75th percentile\n",
    "percentile_75 = np.percentile(scores, 75)\n",
    "\n",
    "print(f\"The 75th percentile of the cosine similarity scores is: {percentile_75}\")"
   ]
  },
  {
   "cell_type": "markdown",
   "id": "8c689f68-5430-497f-8aa7-75892960bd93",
   "metadata": {},
   "source": [
    "# Q4. Rouge"
   ]
  },
  {
   "cell_type": "code",
   "execution_count": 42,
   "id": "0d26d675-df31-4f8e-8653-d061a281c3e4",
   "metadata": {},
   "outputs": [
    {
     "name": "stderr",
     "output_type": "stream",
     "text": [
      "huggingface/tokenizers: The current process just got forked, after parallelism has already been used. Disabling parallelism to avoid deadlocks...\n",
      "To disable this warning, you can either:\n",
      "\t- Avoid using `tokenizers` before the fork if possible\n",
      "\t- Explicitly set the environment variable TOKENIZERS_PARALLELISM=(true | false)\n"
     ]
    },
    {
     "name": "stdout",
     "output_type": "stream",
     "text": [
      "Requirement already satisfied: rouge in /Users/olgavlasenko/PycharmProjects/llm-zoomcamp/.venv/lib/python3.12/site-packages (1.0.1)\n",
      "Requirement already satisfied: six in /Users/olgavlasenko/PycharmProjects/llm-zoomcamp/.venv/lib/python3.12/site-packages (from rouge) (1.16.0)\n",
      "Note: you may need to restart the kernel to use updated packages.\n"
     ]
    }
   ],
   "source": [
    "pip install rouge"
   ]
  },
  {
   "cell_type": "code",
   "execution_count": 45,
   "id": "589d585c-b60c-40c1-b71b-34827a62cb43",
   "metadata": {},
   "outputs": [],
   "source": [
    "from rouge import Rouge\n",
    "rouge_scorer = Rouge()\n",
    "\n",
    "r = {\n",
    "    'answer_llm': \"This is the answer generated by the language model.\",\n",
    "    'answer_orig': \"This is the original answer.\"\n",
    "}\n",
    "\n",
    "scores = rouge_scorer.get_scores(r['answer_llm'], r['answer_orig'])[0]"
   ]
  },
  {
   "cell_type": "code",
   "execution_count": 46,
   "id": "cc1dc76d-f264-4f41-b3e9-869f426bd3f0",
   "metadata": {},
   "outputs": [
    {
     "data": {
      "text/plain": [
       "{'rouge-1': {'r': 0.8, 'p': 0.5, 'f': 0.6153846106508877},\n",
       " 'rouge-2': {'r': 0.5, 'p': 0.25, 'f': 0.33333332888888895},\n",
       " 'rouge-l': {'r': 0.8, 'p': 0.5, 'f': 0.6153846106508877}}"
      ]
     },
     "execution_count": 46,
     "metadata": {},
     "output_type": "execute_result"
    }
   ],
   "source": [
    "scores"
   ]
  },
  {
   "cell_type": "markdown",
   "id": "f7c886ef-94c7-4b5b-af0d-935674195009",
   "metadata": {},
   "source": [
    "# Q5. Average rouge score"
   ]
  },
  {
   "cell_type": "code",
   "execution_count": 48,
   "id": "37c08b2b-c3d4-4245-b11e-451056f3d311",
   "metadata": {},
   "outputs": [],
   "source": [
    "from statistics import mean"
   ]
  },
  {
   "cell_type": "code",
   "execution_count": 49,
   "id": "33ef2e4c-9436-40f9-a36b-04297fb484d5",
   "metadata": {},
   "outputs": [
    {
     "data": {
      "text/plain": [
       "0.5213675167302214"
      ]
     },
     "execution_count": 49,
     "metadata": {},
     "output_type": "execute_result"
    }
   ],
   "source": [
    "# Extract the F1-scores for rouge-1, rouge-2, and rouge-l\n",
    "rouge1_f1 = scores['rouge-1']['f']\n",
    "rouge2_f1 = scores['rouge-2']['f']\n",
    "rougeL_f1 = scores['rouge-l']['f']\n",
    "\n",
    "# Calculate the average F1-score using statistics.mean\n",
    "average_f1 = mean([rouge1_f1, rouge2_f1, rougeL_f1])\n",
    "average_f1"
   ]
  },
  {
   "cell_type": "markdown",
   "id": "3ee97811-9173-4dc2-903f-21ad2ff827c7",
   "metadata": {},
   "source": [
    "# Q6. Average rouge score for all the data points"
   ]
  },
  {
   "cell_type": "code",
   "execution_count": null,
   "id": "ed787abd-a6c9-498d-b25e-a67b4f147113",
   "metadata": {},
   "outputs": [],
   "source": [
    "rouge_1_scores = []\n",
    "rouge_2_scores = []\n",
    "rouge_l_scores = []\n",
    "rouge_avg_scores = []"
   ]
  },
  {
   "cell_type": "code",
   "execution_count": null,
   "id": "908d746f-5479-412c-9407-521a7a54e79d",
   "metadata": {},
   "outputs": [],
   "source": [
    "# Compute ROUGE scores for each record\n",
    "for r in data:\n",
    "    scores = rouge_scorer.get_scores(r['answer_llm'], r['answer_orig'])\n",
    "    rouge_1 = scores['rouge-1']['f']\n",
    "    rouge_2 = scores['rouge-2']['f']\n",
    "    rouge_l = scores['rouge-l']['f']\n",
    "    rouge_avg = (rouge_1 + rouge_2 + rouge_l) / 3\n",
    "\n",
    "    rouge_1_scores.append(rouge_1)\n",
    "    rouge_2_scores.append(rouge_2)\n",
    "    rouge_l_scores.append(rouge_l)\n",
    "    rouge_avg_scores.append(rouge_avg)\n",
    "\n",
    "# Create a dataframe from the scores\n",
    "df_scores = pd.DataFrame({\n",
    "    'rouge-1': rouge_1_scores,\n",
    "    'rouge-2': rouge_2_scores,\n",
    "    'rouge-l': rouge_l_scores,\n",
    "    'rouge-avg': rouge_avg_scores\n",
    "})\n",
    "\n",
    "# Calculate the average ROUGE-2 score across all records\n",
    "average_rouge_2 = df_scores['rouge-2'].mean()\n",
    "\n",
    "print(df_scores)\n",
    "print(f\"Average ROUGE-2 score: {average_rouge_2}\")"
   ]
  },
  {
   "cell_type": "code",
   "execution_count": 51,
   "id": "2cda72cf-8d90-46f4-bc4c-331c3cae2f64",
   "metadata": {},
   "outputs": [],
   "source": [
    "rouge_1_scores = []\n",
    "rouge_2_scores = []\n",
    "rouge_l_scores = []\n",
    "rouge_avg_scores = []\n",
    "\n",
    "# Iterate over each row in the DataFrame\n",
    "for index, row in df.iterrows():\n",
    "    answer_llm = row['answer_llm']\n",
    "    answer_orig = row['answer_orig']\n",
    "    \n",
    "    scores = rouge_scorer.get_scores(answer_llm, answer_orig)[0]\n",
    "    rouge_1 = scores['rouge-1']['f']\n",
    "    rouge_2 = scores['rouge-2']['f']\n",
    "    rouge_l = scores['rouge-l']['f']\n",
    "    rouge_avg = (rouge_1 + rouge_2 + rouge_l) / 3\n",
    "\n",
    "    rouge_1_scores.append(rouge_1)\n",
    "    rouge_2_scores.append(rouge_2)\n",
    "    rouge_l_scores.append(rouge_l)\n",
    "    rouge_avg_scores.append(rouge_avg)\n",
    "\n",
    "# Create a dataframe from the scores\n",
    "df_scores = pd.DataFrame({\n",
    "    'rouge-1': rouge_1_scores,\n",
    "    'rouge-2': rouge_2_scores,\n",
    "    'rouge-l': rouge_l_scores,\n",
    "    'rouge-avg': rouge_avg_scores\n",
    "})\n",
    "\n",
    "# Calculate the average ROUGE-2 score across all records\n",
    "average_rouge_2 = df_scores['rouge-2'].mean()"
   ]
  },
  {
   "cell_type": "code",
   "execution_count": 52,
   "id": "0441246e-959b-4878-8460-107ca6556868",
   "metadata": {},
   "outputs": [
    {
     "data": {
      "text/plain": [
       "0.20696501983423318"
      ]
     },
     "execution_count": 52,
     "metadata": {},
     "output_type": "execute_result"
    }
   ],
   "source": [
    "average_rouge_2"
   ]
  },
  {
   "cell_type": "markdown",
   "id": "383577f3-253d-4707-b942-8e9b30f3a7ea",
   "metadata": {},
   "source": [
    "Version 2"
   ]
  },
  {
   "cell_type": "code",
   "execution_count": 55,
   "id": "27668dc6-48d3-4853-b2e5-f2408e0b62da",
   "metadata": {},
   "outputs": [
    {
     "name": "stdout",
     "output_type": "stream",
     "text": [
      "    rouge-1   rouge-2   rouge-l  rouge-avg\n",
      "0  0.714286  0.461538  0.714286   0.630037\n",
      "1  0.666667  0.000000  0.666667   0.444444\n",
      "2  0.750000  0.333333  0.750000   0.611111\n",
      "Average ROUGE-2 score: 0.264957261712689\n"
     ]
    }
   ],
   "source": [
    "from rouge import Rouge\n",
    "import pandas as pd\n",
    "\n",
    "# Assuming df is your DataFrame\n",
    "df = pd.DataFrame({\n",
    "    'answer_llm': [\n",
    "        \"This is the first answer generated by the model.\",\n",
    "        \"Another model answer.\",\n",
    "        \"Yet another generated answer.\"\n",
    "    ],\n",
    "    'answer_orig': [\n",
    "        \"This is the first original answer.\",\n",
    "        \"Another original answer.\",\n",
    "        \"Yet another original answer.\"\n",
    "    ]\n",
    "})\n",
    "\n",
    "\n",
    "rouge_scorer = Rouge()\n",
    "rouge_1_scores = []\n",
    "rouge_2_scores = []\n",
    "rouge_l_scores = []\n",
    "rouge_avg_scores = []\n",
    "\n",
    "# Iterate over each row in the DataFrame\n",
    "for index, row in df.iterrows():\n",
    "    answer_llm = row['answer_llm']\n",
    "    answer_orig = row['answer_orig']\n",
    "    \n",
    "    scores = rouge_scorer.get_scores(answer_llm, answer_orig)[0]\n",
    "    rouge_1 = scores['rouge-1']['f']\n",
    "    rouge_2 = scores['rouge-2']['f']\n",
    "    rouge_l = scores['rouge-l']['f']\n",
    "    rouge_avg = (rouge_1 + rouge_2 + rouge_l) / 3\n",
    "\n",
    "    rouge_1_scores.append(rouge_1)\n",
    "    rouge_2_scores.append(rouge_2)\n",
    "    rouge_l_scores.append(rouge_l)\n",
    "    rouge_avg_scores.append(rouge_avg)\n",
    "\n",
    "# Create a dataframe from the scores\n",
    "df_scores = pd.DataFrame({\n",
    "    'rouge-1': rouge_1_scores,\n",
    "    'rouge-2': rouge_2_scores,\n",
    "    'rouge-l': rouge_l_scores,\n",
    "    'rouge-avg': rouge_avg_scores\n",
    "})\n",
    "\n",
    "# Calculate the average ROUGE-2 score across all records\n",
    "average_rouge_2 = df_scores['rouge-2'].mean()\n",
    "\n",
    "print(df_scores)\n",
    "print(f\"Average ROUGE-2 score: {average_rouge_2}\")\n"
   ]
  },
  {
   "cell_type": "code",
   "execution_count": null,
   "id": "8c74fd60-3f4f-47e9-98d2-c523624ffd28",
   "metadata": {},
   "outputs": [],
   "source": []
  }
 ],
 "metadata": {
  "kernelspec": {
   "display_name": "Python 3 (ipykernel)",
   "language": "python",
   "name": "python3"
  },
  "language_info": {
   "codemirror_mode": {
    "name": "ipython",
    "version": 3
   },
   "file_extension": ".py",
   "mimetype": "text/x-python",
   "name": "python",
   "nbconvert_exporter": "python",
   "pygments_lexer": "ipython3",
   "version": "3.12.4"
  }
 },
 "nbformat": 4,
 "nbformat_minor": 5
}
