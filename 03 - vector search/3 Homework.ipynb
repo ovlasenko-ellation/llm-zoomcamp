{
 "cells": [
  {
   "cell_type": "markdown",
   "id": "9251b7c5-2b8b-46b7-9957-e22ef49547d4",
   "metadata": {},
   "source": [
    "# Question 1"
   ]
  },
  {
   "cell_type": "code",
   "execution_count": 1,
   "id": "33ce74ba-c876-41f1-9059-0150db208aea",
   "metadata": {},
   "outputs": [],
   "source": [
    "from sentence_transformers import SentenceTransformer\n",
    "embedding_model = SentenceTransformer(\"multi-qa-distilbert-cos-v1\")"
   ]
  },
  {
   "cell_type": "code",
   "execution_count": 2,
   "id": "60473733-f9ae-4950-a741-342b3a976fc8",
   "metadata": {},
   "outputs": [],
   "source": [
    "user_question = \"I just discovered the course. Can I still join it?\""
   ]
  },
  {
   "cell_type": "code",
   "execution_count": 3,
   "id": "b633fa00-4cda-4a6f-92cc-e8eac02f0c89",
   "metadata": {},
   "outputs": [],
   "source": [
    "user_question_embedding = embedding_model.encode(user_question)"
   ]
  },
  {
   "cell_type": "code",
   "execution_count": 4,
   "id": "a088cbfa-abd2-4414-9488-e59cad39b83c",
   "metadata": {},
   "outputs": [
    {
     "data": {
      "text/plain": [
       "0.07822261"
      ]
     },
     "execution_count": 4,
     "metadata": {},
     "output_type": "execute_result"
    }
   ],
   "source": [
    "user_question_embedding[0]"
   ]
  },
  {
   "cell_type": "markdown",
   "id": "7cb5a106-7c86-4110-a35f-31809841cb00",
   "metadata": {},
   "source": [
    "# Question 2"
   ]
  },
  {
   "cell_type": "code",
   "execution_count": 5,
   "id": "39c76e2f-c6ae-4748-bc76-69a6274bc0c4",
   "metadata": {},
   "outputs": [],
   "source": [
    "import requests \n",
    "\n",
    "base_url = 'https://github.com/DataTalksClub/llm-zoomcamp/blob/main'\n",
    "relative_url = '03-vector-search/eval/documents-with-ids.json'\n",
    "docs_url = f'{base_url}/{relative_url}?raw=1'\n",
    "docs_response = requests.get(docs_url)\n",
    "documents = docs_response.json()"
   ]
  },
  {
   "cell_type": "code",
   "execution_count": 6,
   "id": "6ac585ba-1ee0-45fa-ac3b-ae63621dba46",
   "metadata": {},
   "outputs": [],
   "source": [
    "filtered_documents = [doc for doc in documents if doc.get('course') == 'machine-learning-zoomcamp']"
   ]
  },
  {
   "cell_type": "code",
   "execution_count": 7,
   "id": "33b6ea3d-cf26-4529-9e51-16488a109025",
   "metadata": {},
   "outputs": [
    {
     "data": {
      "text/plain": [
       "375"
      ]
     },
     "execution_count": 7,
     "metadata": {},
     "output_type": "execute_result"
    }
   ],
   "source": [
    "len(filtered_documents)"
   ]
  },
  {
   "cell_type": "code",
   "execution_count": 8,
   "id": "0a1bf0ab-c694-4633-913d-2ae1516d8830",
   "metadata": {},
   "outputs": [],
   "source": [
    "import numpy as np"
   ]
  },
  {
   "cell_type": "code",
   "execution_count": 9,
   "id": "c2bff3ef-09ad-490c-b04e-8aa24f90971f",
   "metadata": {},
   "outputs": [],
   "source": [
    "embeddings = []\n",
    "\n",
    "for doc in filtered_documents:\n",
    "    question = doc['question']\n",
    "    text = doc['text']\n",
    "    qa_text = f'{question} {text}'\n",
    "    embedding = embedding_model.encode(qa_text)\n",
    "    embeddings.append(embedding)\n",
    "\n",
    "X = np.array(embeddings)"
   ]
  },
  {
   "cell_type": "code",
   "execution_count": 10,
   "id": "1513f888-8475-40e0-8762-ce690d020585",
   "metadata": {},
   "outputs": [
    {
     "data": {
      "text/plain": [
       "(375, 768)"
      ]
     },
     "execution_count": 10,
     "metadata": {},
     "output_type": "execute_result"
    }
   ],
   "source": [
    "X.shape"
   ]
  },
  {
   "cell_type": "markdown",
   "id": "f21bd1cd-347e-4309-af3b-681ef0bd67b3",
   "metadata": {},
   "source": [
    "# Question 3"
   ]
  },
  {
   "cell_type": "code",
   "execution_count": 11,
   "id": "f2a6e014-cbbe-43af-8c0c-56a22e636b3e",
   "metadata": {},
   "outputs": [],
   "source": [
    "v = user_question_embedding"
   ]
  },
  {
   "cell_type": "code",
   "execution_count": 12,
   "id": "19fb8a8c-ac3a-4445-9297-db68cd2c7b4d",
   "metadata": {},
   "outputs": [],
   "source": [
    "scores = X.dot(v)"
   ]
  },
  {
   "cell_type": "code",
   "execution_count": 13,
   "id": "36859a59-ae68-4a42-953a-b7b7dbaf741f",
   "metadata": {},
   "outputs": [
    {
     "data": {
      "text/plain": [
       "0.6506574"
      ]
     },
     "execution_count": 13,
     "metadata": {},
     "output_type": "execute_result"
    }
   ],
   "source": [
    "highest_score = np.max(scores)\n",
    "highest_score"
   ]
  },
  {
   "cell_type": "markdown",
   "id": "cf5d3c06-1576-4f96-92d1-3e7979fd3e65",
   "metadata": {},
   "source": [
    "# Quesiton 4"
   ]
  },
  {
   "cell_type": "code",
   "execution_count": 14,
   "id": "22f5ee7e-4b73-410d-9565-e6e9fdcbd3be",
   "metadata": {},
   "outputs": [
    {
     "data": {
      "text/plain": [
       "[{'text': 'Yes, you can. You won’t be able to submit some of the homeworks, but you can still take part in the course.\\nIn order to get a certificate, you need to submit 2 out of 3 course projects and review 3 peers’ Projects by the deadline. It means that if you join the course at the end of November and manage to work on two projects, you will still be eligible for a certificate.',\n",
       "  'section': 'General course-related questions',\n",
       "  'question': 'The course has already started. Can I still join it?',\n",
       "  'course': 'machine-learning-zoomcamp',\n",
       "  'id': 'ee58a693'},\n",
       " {'text': 'Welcome to the course! Go to the course page (http://mlzoomcamp.com/), scroll down and start going through the course materials. Then read everything in the cohort folder for your cohort’s year.\\nClick on the links and start watching the videos. Also watch office hours from previous cohorts. Go to DTC youtube channel and click on Playlists and search for {course yyyy}. ML Zoomcamp was first launched in 2021.\\nOr you can just use this link: http://mlzoomcamp.com/#syllabus',\n",
       "  'section': 'General course-related questions',\n",
       "  'question': 'I just joined. What should I do next? How can I access course materials?',\n",
       "  'course': 'machine-learning-zoomcamp',\n",
       "  'id': '0a278fb2'},\n",
       " {'text': \"The process is automated now, so you should receive the email eventually. If you haven’t, check your promotions tab in Gmail as well as spam.\\nIf you unsubscribed from our newsletter, you won't get course related updates too.\\nBut don't worry, it’s not a problem. To make sure you don’t miss anything, join the #course-ml-zoomcamp channel in Slack and our telegram channel with announcements. This is enough to follow the course.\",\n",
       "  'section': 'General course-related questions',\n",
       "  'question': \"I filled the form, but haven't received a confirmation email. Is it normal?\",\n",
       "  'course': 'machine-learning-zoomcamp',\n",
       "  'id': '6ba259b1'},\n",
       " {'text': 'Technically, yes. Advisable? Not really. Reasons:\\nSome homework(s) asks for specific python library versions.\\nAnswers may not match in MCQ options if using different languages other than Python 3.10 (the recommended version for 2023 cohort)\\nAnd as for midterms/capstones, your peer-reviewers may not know these other languages. Do you want to be penalized for others not knowing these other languages?\\nYou can create a separate repo using course’s lessons but written in other languages for your own learnings, but not advisable for submissions.\\ntx[source]',\n",
       "  'section': 'Miscellaneous',\n",
       "  'question': 'Can I do the course in other languages, like R or Scala?',\n",
       "  'course': 'machine-learning-zoomcamp',\n",
       "  'id': '9f261648'},\n",
       " {'text': 'We won’t re-record the course videos. The focus of the course and the skills we want to teach remained the same, and the videos are still up-to-date.\\nIf you haven’t taken part in the previous iteration, you can start watching the videos. It’ll be useful for you and you will learn new things. However, we recommend using Python 3.10 now instead of Python 3.8.',\n",
       "  'section': 'General course-related questions',\n",
       "  'question': 'The course videos are from the previous iteration. Will you release new ones or we’ll use the videos from 2021?',\n",
       "  'course': 'machine-learning-zoomcamp',\n",
       "  'id': 'e7ba6b8a'}]"
      ]
     },
     "execution_count": 14,
     "metadata": {},
     "output_type": "execute_result"
    }
   ],
   "source": [
    "class VectorSearchEngine():\n",
    "    def __init__(self, documents, embeddings):\n",
    "        self.documents = documents\n",
    "        self.embeddings = embeddings\n",
    "\n",
    "    def search(self, v_query, num_results=10):\n",
    "        scores = self.embeddings.dot(v_query)\n",
    "        idx = np.argsort(-scores)[:num_results]\n",
    "        return [self.documents[i] for i in idx]\n",
    "\n",
    "search_engine = VectorSearchEngine(documents=filtered_documents, embeddings=X)\n",
    "search_engine.search(v, num_results=5)"
   ]
  },
  {
   "cell_type": "markdown",
   "id": "593e6d9a-ec3f-4ea7-a63f-2a3f9d3ceec4",
   "metadata": {},
   "source": [
    "# Load the ground dataset"
   ]
  },
  {
   "cell_type": "code",
   "execution_count": 15,
   "id": "1798b958-bd80-4b22-a89f-bbe190b7b076",
   "metadata": {},
   "outputs": [],
   "source": [
    "# import pandas as pd\n",
    "\n",
    "# base_url = 'https://github.com/DataTalksClub/llm-zoomcamp/blob/main'\n",
    "# relative_url = '03-vector-search/eval/ground-truth-data.csv'\n",
    "# ground_truth_url = f'{base_url}/{relative_url}?raw=1'\n",
    "\n",
    "# df_ground_truth = pd.read_csv(ground_truth_url)\n",
    "# df_ground_truth = df_ground_truth[df_ground_truth.course == 'machine-learning-zoomcamp']\n",
    "# ground_truth = df_ground_truth.to_dict(orient='records')"
   ]
  },
  {
   "cell_type": "code",
   "execution_count": 16,
   "id": "1e3e7b3b-32a5-4b42-b11d-84fcd6dd5bf9",
   "metadata": {},
   "outputs": [],
   "source": [
    "import pandas as pd\n",
    "\n",
    "# Manually download the file using requests\n",
    "import requests\n",
    "\n",
    "base_url = 'https://github.com/DataTalksClub/llm-zoomcamp/raw/main'\n",
    "relative_url = '03-vector-search/eval/ground-truth-data.csv'\n",
    "ground_truth_url = f'{base_url}/{relative_url}'\n",
    "\n",
    "response = requests.get(ground_truth_url)\n",
    "with open('ground-truth-data.csv', 'wb') as f:\n",
    "    f.write(response.content)\n",
    "\n",
    "# Read the CSV file locally\n",
    "df_ground_truth = pd.read_csv('ground-truth-data.csv')\n"
   ]
  },
  {
   "cell_type": "code",
   "execution_count": 17,
   "id": "e5ab27f5-28ff-42c9-bc91-1dddfcd34931",
   "metadata": {},
   "outputs": [],
   "source": [
    "df_ground_truth = df_ground_truth[df_ground_truth.course == 'machine-learning-zoomcamp']\n",
    "ground_truth = df_ground_truth.to_dict(orient='records')"
   ]
  },
  {
   "cell_type": "code",
   "execution_count": 18,
   "id": "f8287b4e-d502-4aa2-89c0-88173f98a4c2",
   "metadata": {},
   "outputs": [
    {
     "ename": "NameError",
     "evalue": "name 'tqdm' is not defined",
     "output_type": "error",
     "traceback": [
      "\u001b[0;31m---------------------------------------------------------------------------\u001b[0m",
      "\u001b[0;31mNameError\u001b[0m                                 Traceback (most recent call last)",
      "Cell \u001b[0;32mIn[18], line 3\u001b[0m\n\u001b[1;32m      1\u001b[0m relevance_total \u001b[38;5;241m=\u001b[39m []\n\u001b[0;32m----> 3\u001b[0m \u001b[38;5;28;01mfor\u001b[39;00m q \u001b[38;5;129;01min\u001b[39;00m \u001b[43mtqdm\u001b[49m(ground_truth):\n\u001b[1;32m      4\u001b[0m     doc_id \u001b[38;5;241m=\u001b[39m q[\u001b[38;5;124m'\u001b[39m\u001b[38;5;124mdocument\u001b[39m\u001b[38;5;124m'\u001b[39m]\n\u001b[1;32m      5\u001b[0m     results \u001b[38;5;241m=\u001b[39m search_engine\u001b[38;5;241m.\u001b[39msearch(v, num_results\u001b[38;5;241m=\u001b[39m\u001b[38;5;241m5\u001b[39m) \u001b[38;5;66;03m# elastic_search(query=q['question'], course=q['course'])\u001b[39;00m\n",
      "\u001b[0;31mNameError\u001b[0m: name 'tqdm' is not defined"
     ]
    }
   ],
   "source": [
    "relevance_total = []\n",
    "\n",
    "for q in tqdm(ground_truth):\n",
    "    doc_id = q['document']\n",
    "    results = search_engine.search(v, num_results=5) # elastic_search(query=q['question'], course=q['course'])\n",
    "    relevance = [d['id'] == doc_id for d in results]\n",
    "    relevance_total.append(relevance)"
   ]
  },
  {
   "cell_type": "code",
   "execution_count": 32,
   "id": "f6140e17-a098-41e4-a2d8-3580588aa199",
   "metadata": {},
   "outputs": [],
   "source": [
    "def hit_rate(relevance_total):\n",
    "    cnt = 0\n",
    "\n",
    "    for line in relevance_total:\n",
    "        if True in line:\n",
    "            cnt = cnt + 1\n",
    "\n",
    "    return cnt / len(relevance_total)"
   ]
  },
  {
   "cell_type": "code",
   "execution_count": 33,
   "id": "ce1ded8b-fea2-4362-9785-bc543142cb1e",
   "metadata": {},
   "outputs": [],
   "source": [
    "def mrr(relevance_total):\n",
    "    total_score = 0.0\n",
    "\n",
    "    for line in relevance_total:\n",
    "        for rank in range(len(line)):\n",
    "            if line[rank] == True:\n",
    "                total_score = total_score + 1 / (rank + 1)\n",
    "\n",
    "    return total_score / len(relevance_total)"
   ]
  },
  {
   "cell_type": "code",
   "execution_count": 34,
   "id": "ed82e58e-0fcd-4abf-8196-47ab78089496",
   "metadata": {},
   "outputs": [],
   "source": [
    "from tqdm.auto import tqdm"
   ]
  },
  {
   "cell_type": "code",
   "execution_count": 35,
   "id": "299fa2f5-cfd1-4d90-a7eb-b7f4c1f7bde0",
   "metadata": {},
   "outputs": [],
   "source": [
    "def evaluate(ground_truth, search_engine, num_results=5):\n",
    "    relevance_total = []\n",
    "    for q in tqdm(ground_truth):\n",
    "        doc_id = q['document']\n",
    "        results = search_engine.search(v, num_results=num_results)\n",
    "        relevance = [d['id'] == doc_id for d in results]\n",
    "        relevance_total.append(relevance)\n",
    "    return {\n",
    "        'hit_rate': hit_rate(relevance_total),\n",
    "        'mrr': mrr(relevance_total),\n",
    "    }"
   ]
  },
  {
   "cell_type": "code",
   "execution_count": 36,
   "id": "dc4d3dae-30ea-45fd-9cd4-e447ef83ae87",
   "metadata": {},
   "outputs": [
    {
     "data": {
      "application/vnd.jupyter.widget-view+json": {
       "model_id": "cada358fa5334dceb8a3362c8ac183b0",
       "version_major": 2,
       "version_minor": 0
      },
      "text/plain": [
       "  0%|          | 0/1830 [00:00<?, ?it/s]"
      ]
     },
     "metadata": {},
     "output_type": "display_data"
    },
    {
     "data": {
      "text/plain": [
       "{'hit_rate': 0.01366120218579235, 'mrr': 0.0062386156648451705}"
      ]
     },
     "execution_count": 36,
     "metadata": {},
     "output_type": "execute_result"
    }
   ],
   "source": [
    "evaluate(ground_truth, search_engine)"
   ]
  },
  {
   "cell_type": "code",
   "execution_count": 37,
   "id": "940d32d3-7ae9-43d9-9603-2437d777d446",
   "metadata": {},
   "outputs": [
    {
     "data": {
      "application/vnd.jupyter.widget-view+json": {
       "model_id": "315e10b612534298aed13681dc25ac64",
       "version_major": 2,
       "version_minor": 0
      },
      "text/plain": [
       "  0%|          | 0/1830 [00:00<?, ?it/s]"
      ]
     },
     "metadata": {},
     "output_type": "display_data"
    },
    {
     "name": "stdout",
     "output_type": "stream",
     "text": [
      "Hit Rate: 0.9398907103825137\n",
      "MRR: 0.8502823315118397\n",
      "Query: Where can I sign up for the course?\n",
      "Document ID: 0a278fb2, Text: Welcome to the course! Go to the course page (http://mlzoomcamp.com/), scroll down and start going t...\n",
      "Document ID: 39fda9f0, Text: The course videos are pre-recorded, you can start watching the course right now.\n",
      "We will also occasi...\n",
      "Document ID: ee58a693, Text: Yes, you can. You won’t be able to submit some of the homeworks, but you can still take part in the ...\n",
      "Document ID: 4930aa19, Text: Here’s how you join a in Slack: https://slack.com/help/articles/205239967-Join-a-channel\n",
      "Click “All ...\n",
      "Document ID: 67e2fd13, Text: Approximately 4 months, but may take more if you want to do some extra activities (an extra project,...\n"
     ]
    }
   ],
   "source": [
    "# Create embeddings for filtered documents\n",
    "embedding_model = SentenceTransformer('multi-qa-distilbert-cos-v1')\n",
    "embeddings = []\n",
    "\n",
    "for doc in filtered_documents:\n",
    "    qa_text = f\"{doc['question']} {doc['text']}\"\n",
    "    embedding = embedding_model.encode(qa_text)\n",
    "    embeddings.append(embedding)\n",
    "\n",
    "X = np.array(embeddings)\n",
    "\n",
    "# Initialize search engine\n",
    "search_engine = VectorSearchEngine(documents=filtered_documents, embeddings=X)\n",
    "\n",
    "# Define evaluation functions\n",
    "def hit_rate(relevance_total):\n",
    "    cnt = 0\n",
    "    for line in relevance_total:\n",
    "        if True in line:\n",
    "            cnt += 1\n",
    "    return cnt / len(relevance_total)\n",
    "\n",
    "def mrr(relevance_total):\n",
    "    total_score = 0.0\n",
    "    for line in relevance_total:\n",
    "        for rank in range(len(line)):\n",
    "            if line[rank] == True:\n",
    "                total_score += 1 / (rank + 1)\n",
    "                break\n",
    "    return total_score / len(relevance_total)\n",
    "\n",
    "# Define evaluate function\n",
    "def evaluate(ground_truth, search_engine, embedding_model, num_results=5):\n",
    "    relevance_total = []\n",
    "    for q in tqdm(ground_truth):\n",
    "        doc_id = q['document']\n",
    "        query_embedding = embedding_model.encode(q['question'])\n",
    "        results = search_engine.search(query_embedding, num_results=num_results)\n",
    "        relevance = [d['id'] == doc_id for d in results]\n",
    "        relevance_total.append(relevance)\n",
    "    return {\n",
    "        'hit_rate': hit_rate(relevance_total),\n",
    "        'mrr': mrr(relevance_total),\n",
    "    }\n",
    "\n",
    "# Perform evaluation\n",
    "evaluation_results = evaluate(ground_truth, search_engine, embedding_model, num_results=5)\n",
    "print(\"Hit Rate:\", evaluation_results['hit_rate'])\n",
    "print(\"MRR:\", evaluation_results['mrr'])\n",
    "\n",
    "\n",
    "# Inspect some search results to debug\n",
    "query_example = ground_truth[0]['question']\n",
    "query_embedding = embedding_model.encode(query_example)\n",
    "search_results = search_engine.search(query_embedding, num_results=5)\n",
    "print(f\"Query: {query_example}\")\n",
    "for result in search_results:\n",
    "    print(f\"Document ID: {result['id']}, Text: {result['text'][:100]}...\")\n",
    "\n"
   ]
  },
  {
   "cell_type": "markdown",
   "id": "0bda5d19-6bc6-45bc-ab17-28e6a89453d4",
   "metadata": {},
   "source": [
    "# Q5. Indexing with Elasticsearch"
   ]
  },
  {
   "cell_type": "code",
   "execution_count": 20,
   "id": "9c471435-5fd6-479f-ab8f-8a718ba5c21c",
   "metadata": {},
   "outputs": [],
   "source": [
    "from elasticsearch import Elasticsearch"
   ]
  },
  {
   "cell_type": "code",
   "execution_count": 21,
   "id": "45c7894c-eda4-42f2-ad67-215e9f6564e5",
   "metadata": {},
   "outputs": [],
   "source": [
    "es_client = Elasticsearch('http://localhost:9200')"
   ]
  },
  {
   "cell_type": "code",
   "execution_count": 22,
   "id": "f650bd1b-5343-443a-baea-c91a51298a29",
   "metadata": {},
   "outputs": [
    {
     "data": {
      "text/plain": [
       "ObjectApiResponse({'acknowledged': True, 'shards_acknowledged': True, 'index': 'course-questions'})"
      ]
     },
     "execution_count": 22,
     "metadata": {},
     "output_type": "execute_result"
    }
   ],
   "source": [
    "index_settings = {\n",
    "    \"settings\": {\n",
    "        \"number_of_shards\": 1,\n",
    "        \"number_of_replicas\": 0\n",
    "    },\n",
    "    \"mappings\": {\n",
    "        \"properties\": {\n",
    "            \"text\": {\"type\": \"text\"},\n",
    "            \"section\": {\"type\": \"text\"},\n",
    "            \"question\": {\"type\": \"text\"},\n",
    "            \"course\": {\"type\": \"keyword\"},\n",
    "            \"id\": {\"type\": \"keyword\"},\n",
    "            \"question_vector\": {\n",
    "                \"type\": \"dense_vector\",\n",
    "                \"dims\": 375,\n",
    "                \"index\": True,\n",
    "                \"similarity\": \"cosine\"\n",
    "            },\n",
    "            \"text_vector\": {\n",
    "                \"type\": \"dense_vector\",\n",
    "                \"dims\": 375,\n",
    "                \"index\": True,\n",
    "                \"similarity\": \"cosine\"\n",
    "            },\n",
    "            \"question_text_vector\": {\n",
    "                \"type\": \"dense_vector\",\n",
    "                \"dims\": 375,\n",
    "                \"index\": True,\n",
    "                \"similarity\": \"cosine\"\n",
    "            },\n",
    "        }\n",
    "    }\n",
    "}\n",
    "\n",
    "index_name = \"course-questions\"\n",
    "\n",
    "# Delete index if exists and create a new one\n",
    "es_client.indices.delete(index=index_name, ignore_unavailable=True)\n",
    "es_client.indices.create(index=index_name, body=index_settings)"
   ]
  },
  {
   "cell_type": "code",
   "execution_count": 26,
   "id": "b35402f8-9879-40c7-9d85-86c9587856c8",
   "metadata": {},
   "outputs": [
    {
     "data": {
      "text/plain": [
       "1830"
      ]
     },
     "execution_count": 26,
     "metadata": {},
     "output_type": "execute_result"
    }
   ],
   "source": [
    "len(df_ground_truth)"
   ]
  },
  {
   "cell_type": "code",
   "execution_count": 39,
   "id": "83d72543-b0e7-4556-8532-4a1eda41e48b",
   "metadata": {},
   "outputs": [
    {
     "data": {
      "application/vnd.jupyter.widget-view+json": {
       "model_id": "f4f811e0a9724e2796dbf207bc605b81",
       "version_major": 2,
       "version_minor": 0
      },
      "text/plain": [
       "  0%|          | 0/375 [00:00<?, ?it/s]"
      ]
     },
     "metadata": {},
     "output_type": "display_data"
    },
    {
     "name": "stdout",
     "output_type": "stream",
     "text": [
      "Query: Where can I sign up for the course?\n",
      "Top Document ID: 0a278fb2\n"
     ]
    }
   ],
   "source": [
    "import numpy as np\n",
    "from sentence_transformers import SentenceTransformer\n",
    "import pandas as pd\n",
    "from tqdm.auto import tqdm\n",
    "from elasticsearch import Elasticsearch\n",
    "import requests\n",
    "\n",
    "# Initialize Elasticsearch\n",
    "es_client = Elasticsearch('http://localhost:9200')\n",
    "\n",
    "# Adjust index settings for 768 dimensions\n",
    "index_settings = {\n",
    "    \"settings\": {\n",
    "        \"number_of_shards\": 1,\n",
    "        \"number_of_replicas\": 0\n",
    "    },\n",
    "    \"mappings\": {\n",
    "        \"properties\": {\n",
    "            \"text\": {\"type\": \"text\"},\n",
    "            \"section\": {\"type\": \"text\"},\n",
    "            \"question\": {\"type\": \"text\"},\n",
    "            \"course\": {\"type\": \"keyword\"},\n",
    "            \"id\": {\"type\": \"keyword\"},\n",
    "            \"question_vector\": {\n",
    "                \"type\": \"dense_vector\",\n",
    "                \"dims\": 768,\n",
    "                \"index\": True,\n",
    "                \"similarity\": \"cosine\"\n",
    "            },\n",
    "            \"text_vector\": {\n",
    "                \"type\": \"dense_vector\",\n",
    "                \"dims\": 768,\n",
    "                \"index\": True,\n",
    "                \"similarity\": \"cosine\"\n",
    "            },\n",
    "            \"question_text_vector\": {\n",
    "                \"type\": \"dense_vector\",\n",
    "                \"dims\": 768,\n",
    "                \"index\": True,\n",
    "                \"similarity\": \"cosine\"\n",
    "            },\n",
    "        }\n",
    "    }\n",
    "}\n",
    "\n",
    "index_name = \"course-questions\"\n",
    "\n",
    "# Delete index if exists and create a new one\n",
    "es_client.indices.delete(index=index_name, ignore_unavailable=True)\n",
    "es_client.indices.create(index=index_name, body=index_settings)\n",
    "\n",
    "# Index documents in Elasticsearch with partial debug information\n",
    "for doc, embedding in tqdm(zip(filtered_documents, X), total=len(filtered_documents)):\n",
    "    doc_body = {\n",
    "        \"text\": doc['text'],\n",
    "        \"section\": doc.get('section', ''),\n",
    "        \"question\": doc['question'],\n",
    "        \"course\": doc['course'],\n",
    "        \"id\": doc['id'],\n",
    "        \"question_vector\": embedding.tolist(),\n",
    "        \"text_vector\": embedding.tolist(),  # Assuming the same embedding for simplicity\n",
    "        \"question_text_vector\": embedding.tolist()  # Assuming the same embedding for simplicity\n",
    "    }\n",
    "\n",
    "    try:\n",
    "        es_client.index(index=index_name, body=doc_body)\n",
    "    except Exception as e:\n",
    "        print(f\"Error indexing document ID {doc['id']}: {e}\")\n",
    "        print(f\"Document text: {doc['text'][:100]}...\")\n",
    "        print(f\"Document question: {doc['question']}\")\n",
    "        print(f\"Embedding length: {len(embedding)}\")\n",
    "\n",
    "# Define search function\n",
    "def elastic_search_knn(field, vector, course):\n",
    "    knn = {\n",
    "        \"field\": field,\n",
    "        \"query_vector\": vector,\n",
    "        \"k\": 5,\n",
    "        \"num_candidates\": 10000,\n",
    "        \"filter\": {\n",
    "            \"term\": {\n",
    "                \"course\": course\n",
    "            }\n",
    "        }\n",
    "    }\n",
    "\n",
    "    search_query = {\n",
    "        \"knn\": knn,\n",
    "        \"_source\": [\"text\", \"section\", \"question\", \"course\", \"id\"]\n",
    "    }\n",
    "\n",
    "    es_results = es_client.search(\n",
    "        index=index_name,\n",
    "        body=search_query\n",
    "    )\n",
    "\n",
    "    result_docs = []\n",
    "\n",
    "    for hit in es_results['hits']['hits']:\n",
    "        result_docs.append(hit['_source'])\n",
    "\n",
    "    return result_docs\n",
    "\n",
    "# Perform search for a specific query\n",
    "query_example = ground_truth[0]['question']\n",
    "query_embedding = embedding_model.encode(query_example).tolist()\n",
    "search_results = elastic_search_knn(\"question_vector\", query_embedding, \"machine-learning-zoomcamp\")\n",
    "\n",
    "# Print the ID of the document with the highest score\n",
    "print(f\"Query: {query_example}\")\n",
    "print(f\"Top Document ID: {search_results[0]['id']}\")\n"
   ]
  },
  {
   "cell_type": "markdown",
   "id": "9f7ed341-40f1-48bd-80fc-96ef9d36f437",
   "metadata": {},
   "source": [
    "# Question 6"
   ]
  },
  {
   "cell_type": "code",
   "execution_count": 38,
   "id": "06a52ce4-6d32-4355-bcdf-383a7de8926d",
   "metadata": {},
   "outputs": [
    {
     "data": {
      "application/vnd.jupyter.widget-view+json": {
       "model_id": "67c1c46e198b41b882a073f70c9ee4ee",
       "version_major": 2,
       "version_minor": 0
      },
      "text/plain": [
       "  0%|          | 0/1830 [00:00<?, ?it/s]"
      ]
     },
     "metadata": {},
     "output_type": "display_data"
    },
    {
     "name": "stdout",
     "output_type": "stream",
     "text": [
      "Elastic Hit Rate: 0.9398907103825137\n",
      "Elastic MRR: 0.8502823315118397\n"
     ]
    }
   ],
   "source": [
    "def evaluate_elastic(ground_truth, es_client, embedding_model, num_results=5):\n",
    "    relevance_total = []\n",
    "    for q in tqdm(ground_truth):\n",
    "        doc_id = q['document']\n",
    "        query_embedding = embedding_model.encode(q['question']).tolist()\n",
    "        results = elastic_search_knn(\"question_vector\", query_embedding, q['course'])\n",
    "        relevance = [d['id'] == doc_id for d in results]\n",
    "        relevance_total.append(relevance)\n",
    "    return {\n",
    "        'hit_rate': hit_rate(relevance_total),\n",
    "        'mrr': mrr(relevance_total),\n",
    "    }\n",
    "\n",
    "# Perform evaluation using Elasticsearch\n",
    "evaluation_results_elastic = evaluate_elastic(ground_truth, es_client, embedding_model, num_results=5)\n",
    "print(\"Elastic Hit Rate:\", evaluation_results_elastic['hit_rate'])\n",
    "print(\"Elastic MRR:\", evaluation_results_elastic['mrr'])"
   ]
  },
  {
   "cell_type": "code",
   "execution_count": null,
   "id": "8e5e0159-586a-4a6f-8361-ff9ca96135ac",
   "metadata": {},
   "outputs": [],
   "source": []
  }
 ],
 "metadata": {
  "kernelspec": {
   "display_name": "Python 3 (ipykernel)",
   "language": "python",
   "name": "python3"
  },
  "language_info": {
   "codemirror_mode": {
    "name": "ipython",
    "version": 3
   },
   "file_extension": ".py",
   "mimetype": "text/x-python",
   "name": "python",
   "nbconvert_exporter": "python",
   "pygments_lexer": "ipython3",
   "version": "3.12.4"
  }
 },
 "nbformat": 4,
 "nbformat_minor": 5
}
